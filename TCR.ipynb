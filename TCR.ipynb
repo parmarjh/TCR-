{
  "nbformat": 4,
  "nbformat_minor": 5,
  "metadata": {
    "celltoolbar": "Attachments",
    "kernelspec": {
      "display_name": "Python 3 (ipykernel)",
      "language": "python",
      "name": "python3"
    },
    "language_info": {
      "codemirror_mode": {
        "name": "ipython",
        "version": 3
      },
      "file_extension": ".py",
      "mimetype": "text/x-python",
      "name": "python",
      "nbconvert_exporter": "python",
      "pygments_lexer": "ipython3",
      "version": "3.10.0"
    },
    "colab": {
      "name": "TCR.ipynb",
      "provenance": []
    }
  },
  "cells": [
    {
      "cell_type": "markdown",
      "metadata": {
        "id": "47c0daa2"
      },
      "source": [
        "# Programs :1"
      ],
      "id": "47c0daa2"
    },
    {
      "cell_type": "code",
      "metadata": {
        "id": "382f31bb"
      },
      "source": [
        "1. Find and print first 50 numbers of a series of integer number those are divisible by number 27"
      ],
      "id": "382f31bb",
      "execution_count": null,
      "outputs": []
    },
    {
      "cell_type": "code",
      "metadata": {
        "id": "1cdbae19",
        "outputId": "47120495-4d42-4e83-8833-71d0905f5a74"
      },
      "source": [
        "# Python program to print all the numbers\n",
        "# divisible by 27  a given number\n",
        "\n",
        "# Result function with N\n",
        "def result(N):\n",
        "\t\n",
        "\t# iterate from 0 to N\n",
        "\tfor num in range(N):\n",
        "\t\t\n",
        "\t\t\t# Short-circuit operator is used\n",
        "\t\t\tif num % 27== 0 :\n",
        "\t\t\t\tprint(str(num) + \" \", end = \"\")\n",
        "\t\t\t\t\n",
        "\t\t\telse:\n",
        "\t\t\t\tpass\n",
        "\n",
        "# Driver code\n",
        "if __name__ == \"__main__\":\n",
        "\t\n",
        "\t# input goes here\n",
        "\tN = 50\n",
        "\t\n",
        "\t# Calling function\n",
        "\tresult(N)\n"
      ],
      "id": "1cdbae19",
      "execution_count": null,
      "outputs": [
        {
          "name": "stdout",
          "output_type": "stream",
          "text": [
            "0 27 "
          ]
        }
      ]
    },
    {
      "cell_type": "markdown",
      "metadata": {
        "id": "9d45170b"
      },
      "source": [
        "Programs :2"
      ],
      "id": "9d45170b"
    },
    {
      "cell_type": "markdown",
      "metadata": {
        "id": "9a83b7c9"
      },
      "source": [
        "2. Provide a solution to determine length of 3rd side of a triangle if length of two sides and opposite\n",
        "angles are known. The formula is c2 = a2 + b2 – 2ab Cos (Phi). Given values of variables a, b and\n",
        "Phi are known – determine value of ‘c’.\n",
        "\n",
        "\n",
        "Given two sides\n",
        "If you know two other sides of the right triangle, it's the easiest option; all you need to do is apply the Pythagorean theorem:\n",
        "\n",
        "a² + b² = c²\n",
        "\n",
        "if leg a is the missing side, then transform the equation to the form when a is on one side, and take a square root:\n",
        "\n",
        "a = √(c² - b²)\n",
        "\n",
        "if leg b is unknown, then\n",
        "\n",
        "b = √(c² - a²)\n",
        "\n",
        "for hypotenuse c missing, the formula is\n",
        "\n",
        "c = √(a² + b²)\n",
        "\n",
        "\n",
        "c^2 = a^2 + b^2 - 2*a*b*cos(c) \n",
        "OR\n",
        "c = sqrt(a^2 + b^2 - 2*a*b*cos(c))\n",
        "\n",
        "\n",
        "Input : a = 11, b = 13, c = 151 \n"
      ],
      "id": "9a83b7c9"
    },
    {
      "cell_type": "code",
      "metadata": {
        "id": "024b7d2b",
        "outputId": "34e4f258-dab9-43d9-ffc2-48fda927e6f1"
      },
      "source": [
        "# Python3 program to find third side\n",
        "# of triangle using law of cosines\n",
        "import math as mt\n",
        "\n",
        "# Function to calculate cos\n",
        "# value of angle c\n",
        "def cal_cos(n):\n",
        "\n",
        "\taccuracy = 0.0001\n",
        "\tx1, denominator, cosx, cosval = 0, 0, 0, 0\n",
        "\n",
        "\t# Converting degrees to radian\n",
        "\tn = n * (3.142 / 180.0)\n",
        "\n",
        "\tx1 = 1\n",
        "\n",
        "\t# Maps the sum along the series\n",
        "\tcosx = x1\n",
        "\n",
        "\t# Holds the actual value of sin(n)\n",
        "\tcosval = mt.cos(n)\n",
        "\ti = 1\n",
        "\twhile (accuracy <= abs(cosval - cosx)):\n",
        "\n",
        "\t\tdenominator = 2 * i * (2 * i - 1)\n",
        "\t\tx1 = -x1 * n * n / denominator\n",
        "\t\tcosx = cosx + x1\n",
        "\t\ti = i + 1\n",
        "\n",
        "\treturn cosx\n",
        "\n",
        "# Function to find third side\n",
        "def third_side(a, b, c):\n",
        "\tangle = cal_cos(c)\n",
        "\treturn mt.sqrt((a * a) +\n",
        "\t\t\t\t(b * b) - 2 * a * b * angle)\n",
        "\n",
        "# Driver Code\n",
        "c = 151\n",
        "a, b = 11, 13\n",
        "print(third_side(a, b, c))\n",
        "\n"
      ],
      "id": "024b7d2b",
      "execution_count": null,
      "outputs": [
        {
          "name": "stdout",
          "output_type": "stream",
          "text": [
            "23.241904237098847\n"
          ]
        }
      ]
    },
    {
      "cell_type": "markdown",
      "metadata": {
        "id": "fkdTt2waYjCJ"
      },
      "source": [
        "Programs :3"
      ],
      "id": "fkdTt2waYjCJ"
    },
    {
      "cell_type": "markdown",
      "metadata": {
        "id": "MCc0Q7OfM2AM"
      },
      "source": [
        "Programs:3 . Plot a X-Y chart for values of x from 1 to 100 and corresponding values of y using the equation of\n",
        "y = mx + c where of m = 1.394 and c = 4.229.\n"
      ],
      "id": "MCc0Q7OfM2AM"
    },
    {
      "cell_type": "code",
      "metadata": {
        "id": "6s-aiH_fNdVe"
      },
      "source": [
        "import matplotlib.pyplot as plt\n",
        "\n",
        "# x-axis values\n",
        "x = [1,2,3,4,5,6,7,8,9,10,11,12,13,14,15,16,17,18,18,19,20,21,22,23,24,25,26,27,28,29,30,31,32,33,34,35,36,37,38,39,40,41,42,43,44,45,46,47,48,49,50,51,52,53,54,55,56,57,58,59,60,61,62,63,64,65,66,67,68,69,70,71,72,73,74,75,76,77,78,79,80,81,82,83,84,85,86,87,88,89,90,91,92,93,94,95,96,97,98,99,100]\n",
        "# y-axis values\n",
        "y = [1.394(x)*4.229]\n",
        "\n",
        "# plotting points as a scatter plot\n",
        "plt.scatter(x, y, label= \"stars\", color= \"green\",\n",
        "\t\t\tmarker= \"*\", s=30)\n",
        "\n",
        "# x-axis label\n",
        "plt.xlabel('x - axis')\n",
        "# frequency label\n",
        "plt.ylabel('y - axis')\n",
        "# plot title\n",
        "plt.title('My scatter plot!')\n",
        "# showing legend\n",
        "plt.legend()\n",
        "\n",
        "# function to show the plot\n",
        "plt.show()\n",
        "\n"
      ],
      "id": "6s-aiH_fNdVe",
      "execution_count": null,
      "outputs": []
    },
    {
      "cell_type": "markdown",
      "metadata": {
        "id": "6iwdKHvLSfpG"
      },
      "source": [
        "Programs :5\n",
        ". Write a query statement to find first name ‘Smith’ with dues of 203 or higher of all items from\n",
        "the table below and provide an expected output.\n"
      ],
      "id": "6iwdKHvLSfpG"
    },
    {
      "cell_type": "code",
      "metadata": {
        "colab": {
          "base_uri": "https://localhost:8080/"
        },
        "id": "d424cLvgTRkn",
        "outputId": "7dabd5f6-bb8d-48d1-f70c-ec0bd8ae87fb"
      },
      "source": [
        "from prettytable import PrettyTable\n",
        "\n",
        "# Specify the Column Names while initializing the Table\n",
        "myTable = PrettyTable([\"First name\", \"Middle name\", \"Last name\", \"item\", \"due\"])\n",
        "\n",
        "# Add rows\n",
        "myTable.add_row([\"Smith\",\"Ender\", \" Paul\",\"a\",\"100\"])\n",
        "myTable.add_row([\"Ender\",\" Paul\", \"Smith \",\"b\",\"150\"])\n",
        "myTable.add_row([\"Paul\",\"Smith\", \"Ender\",\"c\",\"200\"])\n",
        "myTable.add_row([\"Smith\",\" Paul\", \"Ender\",\"a\",\"250\"])\n",
        "myTable.add_row([\"Ender\", \"Smith \",\" Paul\",\"b\",\"300\"])\n",
        "myTable.add_row([\"Paul\",\"Ender\",\"Smith\",\"c\",\"100\"])\n",
        "myTable.add_row([\"Smith\",\" Smith \",\" Smith \",\"a\",\"150\"])\n",
        "myTable.add_row([\"Paul\",\"Paul \",\" Paul \",\"b\",\"200\"])\n",
        "myTable.add_row([\"Ender\",\"Ender\",\"Ender\",\"c\",\"250\"])\n",
        "print(myTable)\n"
      ],
      "id": "d424cLvgTRkn",
      "execution_count": null,
      "outputs": [
        {
          "output_type": "stream",
          "name": "stdout",
          "text": [
            "+------------+-------------+-----------+------+-----+\n",
            "| First name | Middle name | Last name | item | due |\n",
            "+------------+-------------+-----------+------+-----+\n",
            "|   Smith    |    Ender    |    Paul   |  a   | 100 |\n",
            "|   Ender    |     Paul    |   Smith   |  b   | 150 |\n",
            "|    Paul    |    Smith    |   Ender   |  c   | 200 |\n",
            "|   Smith    |     Paul    |   Ender   |  a   | 250 |\n",
            "|   Ender    |    Smith    |    Paul   |  b   | 300 |\n",
            "|    Paul    |    Ender    |   Smith   |  c   | 100 |\n",
            "|   Smith    |    Smith    |   Smith   |  a   | 150 |\n",
            "|    Paul    |    Paul     |    Paul   |  b   | 200 |\n",
            "|   Ender    |    Ender    |   Ender   |  c   | 250 |\n",
            "+------------+-------------+-----------+------+-----+\n"
          ]
        }
      ]
    },
    {
      "cell_type": "markdown",
      "metadata": {
        "id": "JaW2BYqJZDb2"
      },
      "source": [
        " Program:4  Provide logic to extract the values for curve ‘A’ from the chart below"
      ],
      "id": "JaW2BYqJZDb2"
    },
    {
      "cell_type": "code",
      "metadata": {
        "id": "LXXBNZqpZOxO"
      },
      "source": [
        "import numpy as np\n",
        "from scipy.interpolate import interp1d\n",
        "import matplotlib.pyplot as plt\n",
        "\n",
        "# Dataset\n",
        "x=np.array([10, 20, 30, 40, 50, 60, 70, 80, 90, 100,110, 120, 130, 140, 150, 160])\n",
        "y=np.array([-60, -50, -40, -30, -20, -10, 10, 0 , 20, 30, 40, 50, 60,])\n",
        "\n",
        "cubic_interploation_model = interp1d(x, y, kind = \"cubic\")\n",
        "\n",
        "# Plotting the Graph\n",
        "X_=np.linspace(x.min(), x.max(), 500)\n",
        "Y_=cubic_interploation_model(X_)\n",
        "\n",
        "plt.plot(X_, Y_)\n",
        "plt.title(\"Plot Smooth Curve Using the scipy.interpolate.interp1d Class\")\n",
        "plt.xlabel(\"X\")\n",
        "plt.ylabel(\"Y\")\n",
        "plt.show()\n"
      ],
      "id": "LXXBNZqpZOxO",
      "execution_count": null,
      "outputs": []
    }
  ]
}